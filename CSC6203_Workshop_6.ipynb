{
 "cells": [
  {
   "cell_type": "markdown",
   "metadata": {
    "editable": true,
    "id": "eSnv9worn0s3",
    "slideshow": {
     "slide_type": ""
    },
    "tags": []
   },
   "source": [
    "# Audio Processing - 2"
   ]
  },
  {
   "cell_type": "markdown",
   "metadata": {
    "id": "dvC2cvwKoFlV"
   },
   "source": [
    "## Content\n",
    "1. Automatic Speech Recognition with CNN\n",
    "1. Automatic Speech Recognition with RNN\n",
    "1. Speech Emotion Recogntion with LSTM\n",
    "1. Feature Extraction with Wav2vec2.0\n"
   ]
  },
  {
   "cell_type": "markdown",
   "metadata": {
    "id": "LBD_FjaOo79t"
   },
   "source": [
    "# Automatic Speech Recognition with CNN"
   ]
  },
  {
   "cell_type": "code",
   "execution_count": 2,
   "metadata": {
    "editable": true,
    "id": "lBVbqZ5bnvo3",
    "slideshow": {
     "slide_type": ""
    },
    "tags": []
   },
   "outputs": [
    {
     "name": "stderr",
     "output_type": "stream",
     "text": [
      "1044.33s - pydevd: Sending message related to process being replaced timed-out after 5 seconds\n",
      "1049.47s - pydevd: Sending message related to process being replaced timed-out after 5 seconds\n"
     ]
    },
    {
     "name": "stdout",
     "output_type": "stream",
     "text": [
      "--2024-06-20 03:09:10--  http://download.tensorflow.org/data/speech_commands_v0.01.tar.gz\n",
      "Resolving download.tensorflow.org (download.tensorflow.org)... 172.217.24.59, 2404:6800:4006:804::201b\n",
      "Connecting to download.tensorflow.org (download.tensorflow.org)|172.217.24.59|:80... connected.\n",
      "HTTP request sent, awaiting response... 200 OK\n",
      "Length: 1489096277 (1.4G) [application/gzip]\n",
      "Saving to: ‘speech_commands_v0.01.tar.gz’\n",
      "\n",
      "speech_commands_v0. 100%[===================>]   1.39G  15.5MB/s    in 97s     \n",
      "\n",
      "2024-06-20 03:10:47 (14.6 MB/s) - ‘speech_commands_v0.01.tar.gz’ saved [1489096277/1489096277]\n",
      "\n",
      "Deleting folder: _background_noise_\n",
      "Deleting folder: bed\n",
      "Deleting folder: bird\n",
      "Deleting folder: cat\n",
      "Deleting folder: dog\n",
      "Deleting folder: down\n",
      "Keeping folder: eight\n",
      "Keeping folder: five\n",
      "Keeping folder: four\n",
      "Deleting folder: go\n",
      "Deleting folder: happy\n",
      "Deleting folder: house\n",
      "Deleting folder: left\n",
      "Deleting folder: marvin\n",
      "Keeping folder: nine\n",
      "Deleting folder: no\n",
      "Deleting folder: off\n",
      "Deleting folder: on\n",
      "Keeping folder: one\n",
      "Deleting folder: right\n",
      "Keeping folder: seven\n",
      "Deleting folder: sheila\n",
      "Keeping folder: six\n",
      "Deleting folder: stop\n",
      "Keeping folder: three\n",
      "Deleting folder: tree\n",
      "Keeping folder: two\n",
      "Deleting folder: up\n",
      "Deleting folder: wow\n",
      "Deleting folder: yes\n",
      "Keeping folder: zero\n",
      "Renaming class folders\n",
      "Reducing dataset size to 200 per class\n",
      "Cleanup completed.\n"
     ]
    }
   ],
   "source": [
    "# Set up the Dataset by downloading\n",
    "!chmod +x download_speech_commands.sh\n",
    "!./download_speech_commands.sh"
   ]
  },
  {
   "cell_type": "code",
   "execution_count": 5,
   "metadata": {},
   "outputs": [
    {
     "name": "stderr",
     "output_type": "stream",
     "text": [
      "1290.88s - pydevd: Sending message related to process being replaced timed-out after 5 seconds\n"
     ]
    },
    {
     "name": "stdout",
     "output_type": "stream",
     "text": [
      "201\n"
     ]
    }
   ],
   "source": [
    "!ls -l \"./speech_commands/0\" | wc -l "
   ]
  },
  {
   "cell_type": "code",
   "execution_count": 10,
   "metadata": {
    "id": "OYWSPSzupCj2"
   },
   "outputs": [],
   "source": [
    "import torch\n",
    "import torchaudio\n",
    "import torch.nn as nn\n",
    "import torch.optim as optim\n",
    "from torchvision.datasets import DatasetFolder\n",
    "from torch.utils.data import DataLoader, random_split, Subset\n",
    "import numpy as np\n",
    "import librosa\n",
    "from collections import defaultdict\n",
    "import matplotlib.pyplot as plt\n",
    "from sklearn.metrics import confusion_matrix, ConfusionMatrixDisplay\n",
    "import numpy as np\n",
    "import seaborn as sns"
   ]
  },
  {
   "cell_type": "code",
   "execution_count": 11,
   "metadata": {
    "id": "Uo4Q9rgSpJXh"
   },
   "outputs": [],
   "source": [
    "# Create the Dataset Class with DatasetFolder\n",
    "class SpeechCommandsDataset(DatasetFolder): \n",
    "    def __init__(self, root):\n",
    "        super().__init__(root, loader=self.load_audio, extensions='.wav' )\n",
    "\n",
    "    def load_audio(self, path):\n",
    "        audio, sr = librosa.load(path)\n",
    "        audio = librosa.util.fix_length(audio, size= 1 * sr)\n",
    "        spec = librosa.feature.melspectrogram(y=audio, sr=sr) # 128x44\n",
    "        spec = np.expand_dims(spec, 0) # 1x128x44\n",
    "        spec = torch.from_numpy(spec)\n",
    "        return spec\n",
    "\n",
    "    def __getitem__(self, index):\n",
    "        path, target = self.samples[index]\n",
    "        sample = self.loader(path)\n",
    "        return sample, target"
   ]
  },
  {
   "cell_type": "code",
   "execution_count": 14,
   "metadata": {
    "id": "X4I1s0imrbDb"
   },
   "outputs": [],
   "source": [
    "batch_size = 64\n",
    "# Load the Dataset\n",
    "dataset = SpeechCommandsDataset(root=\"./speech_commands\")\n",
    "\n",
    "# Split in to testing, validation and training sets\n",
    "\n",
    "train_len = int(0.7*len(dataset))\n",
    "val_len = int(0.2*len(dataset))\n",
    "test_len = len(dataset) - train_len - val_len\n",
    "\n",
    "train_dataset, val_dataset, test_dataset = random_split(dataset, [train_len, val_len, test_len])\n",
    "\n",
    "# create loaders\n",
    "train_loader = DataLoader(train_dataset, batch_size=batch_size, shuffle=True)\n",
    "val_loader = DataLoader(val_dataset, batch_size=batch_size, shuffle=False)\n",
    "test_loader = DataLoader(test_dataset, batch_size=batch_size, shuffle=False)\n"
   ]
  },
  {
   "cell_type": "code",
   "execution_count": 17,
   "metadata": {
    "id": "n6-59QFSrj76"
   },
   "outputs": [
    {
     "name": "stdout",
     "output_type": "stream",
     "text": [
      "torch.Size([64, 1, 128, 44])\n",
      "tensor([6, 4, 9, 3, 6, 7, 9, 1, 6, 9, 8, 1, 5, 9, 4, 5, 1, 8, 9, 7, 2, 6, 6, 9,\n",
      "        2, 3, 8, 6, 3, 1, 6, 1, 8, 5, 5, 0, 2, 4, 3, 4, 1, 5, 7, 2, 8, 2, 9, 4,\n",
      "        6, 8, 5, 2, 9, 7, 0, 5, 3, 9, 5, 1, 3, 6, 8, 5])\n"
     ]
    }
   ],
   "source": [
    "# Explore the input shapes\n",
    "s, l = next(iter(train_loader))\n",
    "print(s.shape)\n",
    "print(l)"
   ]
  },
  {
   "cell_type": "code",
   "execution_count": 28,
   "metadata": {
    "id": "3JugFLdZrmes"
   },
   "outputs": [],
   "source": [
    "# Create a CNN model\n",
    "class ASRCNN(nn.Module):\n",
    "    def __init__(self):\n",
    "        super(ASRCNN, self).__init__()\n",
    "        self.conv1 = nn.Conv2d(1, 32, kernel_size=3, stride=1, padding=1)\n",
    "        self.conv2 = nn.Conv2d(32, 64, kernel_size=3, stride=1, padding=1)\n",
    "        self.pool = nn.MaxPool2d(2, 2)\n",
    "        self.fc1 = nn.Linear(64*32*11, 256) \n",
    "        self.fc2 = nn.Linear(256, 10)\n",
    "\n",
    "    def forward(self, x):\n",
    "        x = self.pool(torch.relu(self.conv1(x)))\n",
    "        x = self.pool(torch.relu(self.conv2(x)))\n",
    "        x = x.view(-1, 64*32*11) \n",
    "        x = torch.relu(self.fc1(x))\n",
    "        x = self.fc2(x)\n",
    "        return x\n",
    "\n",
    "model = ASRCNN()\n"
   ]
  },
  {
   "cell_type": "code",
   "execution_count": 20,
   "metadata": {},
   "outputs": [
    {
     "name": "stdout",
     "output_type": "stream",
     "text": [
      "ASRCNN(\n",
      "  (conv1): Conv2d(1, 32, kernel_size=(3, 3), stride=(1, 1), padding=(1, 1))\n",
      "  (conv2): Conv2d(32, 64, kernel_size=(3, 3), stride=(1, 1), padding=(1, 1))\n",
      "  (pool): MaxPool2d(kernel_size=2, stride=2, padding=0, dilation=1, ceil_mode=False)\n",
      "  (fc1): Linear(in_features=22528, out_features=256, bias=True)\n",
      "  (fc2): Linear(in_features=256, out_features=10, bias=True)\n",
      ")\n"
     ]
    }
   ],
   "source": [
    "print(model)"
   ]
  },
  {
   "cell_type": "code",
   "execution_count": 21,
   "metadata": {
    "id": "v54ORDhErs19"
   },
   "outputs": [],
   "source": [
    "# Create Train function\n",
    "def train(model, device, train_loader, optimizer, criterion, epoch, train_history, val_history):\n",
    "    model.train()\n",
    "    train_loss = 0\n",
    "    correct = 0\n",
    "    for batch_idx, (data, target) in enumerate(train_loader):\n",
    "        data, target = data.to(device), target.to(device)\n",
    "        optimizer.zero_grad()\n",
    "        output = model(data)\n",
    "        loss = criterion(output, target)\n",
    "        loss.backward()\n",
    "        optimizer.step()\n",
    "\n",
    "        train_loss += loss.item()\n",
    "        pred = output.argmax(dim=1, keepdim=True)\n",
    "        correct += pred.eq(target.view_as(pred)).sum().item()\n",
    "\n",
    "    train_loss /= len(train_loader.dataset)\n",
    "    accuracy = 100. * correct / len(train_loader.dataset)\n",
    "    train_history.append((train_loss, accuracy))\n",
    "    print(f'Train Epoch: {epoch} Average loss: {train_loss:.4f}, Accuracy: {correct}/{len(train_loader.dataset)} ({accuracy:.0f}%)')\n",
    "\n",
    "\n",
    "# Create eval function\n",
    "\n",
    "def evaluate(model, device, val_loader, criterion, val_history):\n",
    "    model.eval()\n",
    "    val_loss = 0\n",
    "    correct = 0\n",
    "    with torch.no_grad():\n",
    "        for data, target in val_loader:\n",
    "            data, target = data.to(device), target.to(device)\n",
    "            output = model(data)\n",
    "            val_loss += criterion(output, target).item()\n",
    "            pred = output.argmax(dim=1, keepdim=True)\n",
    "            correct += pred.eq(target.view_as(pred)).sum().item()\n",
    "\n",
    "    val_loss /= len(val_loader.dataset)\n",
    "    accuracy = 100. * correct / len(val_loader.dataset)\n",
    "    val_history.append((val_loss, accuracy))\n",
    "    print(f'Validation set: Average loss: {val_loss:.4f}, Accuracy: {correct}/{len(val_loader.dataset)} ({accuracy:.0f}%)')\n",
    "\n",
    "# Create testing function\n",
    "def test(model, device, test_loader, criterion):\n",
    "    model.eval()\n",
    "    test_loss = 0\n",
    "    correct = 0\n",
    "    all_preds = []\n",
    "    all_targets = []\n",
    "    with torch.no_grad():\n",
    "        for data, target in test_loader:\n",
    "            data, target = data.to(device), target.to(device)\n",
    "            output = model(data)\n",
    "            test_loss += criterion(output, target).item()\n",
    "            pred = output.argmax(dim=1, keepdim=True)\n",
    "            correct += pred.eq(target.view_as(pred)).sum().item()\n",
    "            all_preds.extend(pred.cpu().numpy())\n",
    "            all_targets.extend(target.cpu().numpy())\n",
    "\n",
    "    test_loss /= len(test_loader.dataset)\n",
    "    accuracy = 100. * correct / len(test_loader.dataset)\n",
    "    print(f'Test set: Average loss: {test_loss:.4f}, Accuracy: {correct}/{len(test_loader.dataset)} ({accuracy:.0f}%)\\n')\n",
    "    return all_preds, all_targets, test_loss, accuracy\n"
   ]
  },
  {
   "cell_type": "code",
   "execution_count": 31,
   "metadata": {
    "editable": true,
    "id": "megonrWVrwpR",
    "slideshow": {
     "slide_type": ""
    },
    "tags": []
   },
   "outputs": [
    {
     "name": "stdout",
     "output_type": "stream",
     "text": [
      "Train Epoch: 1 Average loss: 0.0277, Accuracy: 706/1400 (50%)\n",
      "Validation set: Average loss: 0.0427, Accuracy: 153/400 (38%)\n",
      "Train Epoch: 2 Average loss: 0.0209, Accuracy: 855/1400 (61%)\n",
      "Validation set: Average loss: 0.0469, Accuracy: 173/400 (43%)\n",
      "Train Epoch: 3 Average loss: 0.0177, Accuracy: 997/1400 (71%)\n",
      "Validation set: Average loss: 0.0655, Accuracy: 199/400 (50%)\n",
      "Train Epoch: 4 Average loss: 0.0177, Accuracy: 989/1400 (71%)\n",
      "Validation set: Average loss: 0.0658, Accuracy: 165/400 (41%)\n",
      "Train Epoch: 5 Average loss: 0.0133, Accuracy: 1093/1400 (78%)\n",
      "Validation set: Average loss: 0.0670, Accuracy: 182/400 (46%)\n"
     ]
    }
   ],
   "source": [
    "# get the cuda/cpu device\n",
    "device = torch.device('cuda') if torch.cuda.is_available() else torch.device('cpu')\n",
    "\n",
    "# transfer the model to device\n",
    "model = model.to(device)\n",
    "\n",
    "# set-up optimiser and loss fn\n",
    "optimiser = optim.Adam(model.parameters(), lr=0.001)\n",
    "loss_fn = nn.CrossEntropyLoss()\n",
    "\n",
    "train_history, val_history = [] , []\n",
    "\n",
    "# train for n epochs\n",
    "n_epochs = 5\n",
    "for epoch in range(1,n_epochs+1):\n",
    "    train(model, device, train_loader, optimiser, loss_fn, epoch, train_history, val_history)\n",
    "    evaluate(model, device, val_loader, loss_fn, val_history)\n"
   ]
  },
  {
   "cell_type": "code",
   "execution_count": 35,
   "metadata": {
    "id": "PQCBJahbsFQJ"
   },
   "outputs": [
    {
     "name": "stdout",
     "output_type": "stream",
     "text": [
      "Test set: Average loss: 0.0688, Accuracy: 87/200 (44%)\n",
      "\n"
     ]
    },
    {
     "data": {
      "image/png": "[encoded data removed]",
      "text/plain": [
       "<Figure size 1200x500 with 2 Axes>"
      ]
     },
     "metadata": {},
     "output_type": "display_data"
    },
    {
     "data": {
      "image/png": "[encoded data removed]",
      "text/plain": [
       "<Figure size 640x480 with 2 Axes>"
      ]
     },
     "metadata": {},
     "output_type": "display_data"
    }
   ],
   "source": [
    "# Evaluate on test\n",
    "all_preds, all_targets, test_loss, accuracy = test(model, device, test_loader, loss_fn)\n",
    "\n",
    "# visualise loss and accuracy\n",
    "train_losses, train_accuracies = zip(*train_history)\n",
    "val_losses, val_accuracies = zip(*val_history)\n",
    "\n",
    "plt.figure(figsize=(12, 5))\n",
    "plt.subplot(1, 2, 1)\n",
    "plt.plot(train_losses, label='Training Loss')\n",
    "plt.plot(val_losses, label='Validation Loss')\n",
    "plt.xlabel('Epoch')\n",
    "plt.ylabel('Loss')\n",
    "plt.legend()\n",
    "\n",
    "plt.subplot(1, 2, 2)\n",
    "plt.plot(train_accuracies, label='Training Accuracy')\n",
    "plt.plot(val_accuracies, label='Validation Accuracy')\n",
    "plt.xlabel('Epoch')\n",
    "plt.ylabel('Accuracy')\n",
    "plt.legend()\n",
    "\n",
    "plt.show()\n",
    "\n",
    "\n",
    "# visualise confusion matrix\n",
    "cm = confusion_matrix(all_targets, all_preds)\n",
    "cmd = ConfusionMatrixDisplay(cm)\n",
    "cmd.plot()\n",
    "plt.show()\n",
    "\n"
   ]
  },
  {
   "cell_type": "markdown",
   "metadata": {
    "id": "Z8yTfigMsPxh",
    "jp-MarkdownHeadingCollapsed": true
   },
   "source": [
    "# Automatic Speech Recognition with RNN"
   ]
  },
  {
   "cell_type": "code",
   "execution_count": 37,
   "metadata": {
    "id": "ezwQC5DLsSKe"
   },
   "outputs": [],
   "source": [
    "import torch\n",
    "import torchaudio\n",
    "import torchaudio.transforms as T\n",
    "import torch.nn as nn\n",
    "import torch.nn.functional as F\n",
    "from torch.utils.data import DataLoader, Dataset\n",
    "import os\n",
    "import glob\n",
    "import numpy as np"
   ]
  },
  {
   "cell_type": "code",
   "execution_count": 41,
   "metadata": {
    "id": "A-xfhnypsWXP"
   },
   "outputs": [],
   "source": [
    "# Create Dataset Class\n",
    "class SpeechCommandsDataset(Dataset):\n",
    "    def __init__(self, data_dir, transform=None):\n",
    "        self.data_dir = data_dir\n",
    "        self.transform = transform\n",
    "        self.classes = sorted(os.listdir(data_dir))\n",
    "        self.files = glob.glob(data_dir + '/*/*.wav')\n",
    "\n",
    "    def __len__(self):\n",
    "        return len(self.files)\n",
    "\n",
    "    def __getitem__(self, idx):\n",
    "        file_path = self.files[idx]\n",
    "        label = file_path.split('/')[-2]\n",
    "        waveform, sample_rate = librosa.load(file_path)\n",
    "        waveform = librosa.util.fix_length(waveform, size=1 * sample_rate)\n",
    "        waveform = torch.from_numpy(waveform)\n",
    "        if self.transform:\n",
    "            waveform = self.transform(waveform)\n",
    "        label = self.classes.index(label)\n",
    "        return waveform, label\n",
    "\n",
    "# Add Transforms https://pytorch.org/audio/stable/transforms.html\n",
    "transform = T.Resample(orig_freq=22050, new_freq=8000)\n",
    "\n",
    "# Create Dataset\n",
    "dataset = SpeechCommandsDataset('./speech_commands', transform=transform)\n",
    "\n",
    "# Split in to train val and test subsets\n",
    "train_len = int(0.7 * len(dataset))\n",
    "val_len = int(0.2 * len(dataset))\n",
    "test_len = len(dataset) - train_len - val_len\n",
    "\n",
    "train_dataset, val_dataset, test_dataset = random_split(dataset, [train_len, val_len, test_len])\n",
    "\n",
    "\n",
    "# Create Loaders\n",
    "\n",
    "train_loader = DataLoader(train_dataset, batch_size=64, shuffle=True)\n",
    "val_loader = DataLoader(val_dataset, batch_size=64, shuffle=False)\n",
    "test_loader = DataLoader(test_dataset, batch_size=64, shuffle=False)\n"
   ]
  },
  {
   "cell_type": "code",
   "execution_count": 42,
   "metadata": {
    "id": "WT4Et_GWs8F8"
   },
   "outputs": [
    {
     "data": {
      "text/plain": [
       "torch.Size([64, 8000])"
      ]
     },
     "execution_count": 42,
     "metadata": {},
     "output_type": "execute_result"
    }
   ],
   "source": [
    "# Explore the data\n",
    "d,l = next(iter(train_loader))\n",
    "d.shape"
   ]
  },
  {
   "cell_type": "code",
   "execution_count": 43,
   "metadata": {
    "id": "InHt7O2Ps-vi"
   },
   "outputs": [],
   "source": [
    "# Create a RNN Model\n",
    "class RNN_ASR(nn.Module):\n",
    "    def __init__(self, input_size, hidden_size, output_size, num_layers=1):\n",
    "        super(RNN_ASR, self).__init__()\n",
    "        self.num_layers = num_layers\n",
    "        self.hidden_size = hidden_size\n",
    "        self.rnn = nn.RNN(input_size, hidden_size, num_layers, batch_first=True)\n",
    "        self.fc = nn.Linear(hidden_size, output_size)\n",
    "\n",
    "    def forward(self, x):\n",
    "        h0 = torch.zeros(self.num_layers, self.hidden_size).to(x.device)\n",
    "        out, _ = self.rnn(x, h0)\n",
    "        out = self.fc(out)\n",
    "        return out\n",
    "\n",
    "\n",
    "input_size = 8000  # Number of features\n",
    "hidden_size = 128\n",
    "output_size = len(dataset.classes)  # Number of classes -> 10\n",
    "\n",
    "model = RNN_ASR(input_size, hidden_size, output_size).to(device)\n"
   ]
  },
  {
   "cell_type": "code",
   "execution_count": 45,
   "metadata": {
    "id": "1DC3M8L_tQU9"
   },
   "outputs": [
    {
     "name": "stdout",
     "output_type": "stream",
     "text": [
      "Epoch [1/10], Step [10/22], Loss: 2.6307\n",
      "Epoch [1/10], Step [20/22], Loss: 2.5044\n",
      "Val Accuracy: 13.00%\n",
      "Epoch [2/10], Step [10/22], Loss: 2.2756\n",
      "Epoch [2/10], Step [20/22], Loss: 2.1001\n",
      "Val Accuracy: 11.25%\n",
      "Epoch [3/10], Step [10/22], Loss: 1.8801\n",
      "Epoch [3/10], Step [20/22], Loss: 1.9174\n",
      "Val Accuracy: 11.25%\n",
      "Epoch [4/10], Step [10/22], Loss: 1.6986\n",
      "Epoch [4/10], Step [20/22], Loss: 1.6298\n",
      "Val Accuracy: 11.50%\n",
      "Epoch [5/10], Step [10/22], Loss: 1.5097\n",
      "Epoch [5/10], Step [20/22], Loss: 1.3573\n",
      "Val Accuracy: 11.50%\n",
      "Epoch [6/10], Step [10/22], Loss: 1.2288\n",
      "Epoch [6/10], Step [20/22], Loss: 1.4892\n",
      "Val Accuracy: 9.75%\n",
      "Epoch [7/10], Step [10/22], Loss: 1.3252\n",
      "Epoch [7/10], Step [20/22], Loss: 1.0766\n",
      "Val Accuracy: 11.50%\n",
      "Epoch [8/10], Step [10/22], Loss: 1.0993\n",
      "Epoch [8/10], Step [20/22], Loss: 0.9803\n",
      "Val Accuracy: 11.00%\n",
      "Epoch [9/10], Step [10/22], Loss: 0.8608\n",
      "Epoch [9/10], Step [20/22], Loss: 0.9750\n",
      "Val Accuracy: 11.50%\n",
      "Epoch [10/10], Step [10/22], Loss: 0.9048\n",
      "Epoch [10/10], Step [20/22], Loss: 0.7740\n",
      "Val Accuracy: 12.50%\n"
     ]
    }
   ],
   "source": [
    "# Get the device\n",
    "device = torch.device('cuda' if torch.cuda.is_available() else 'cpu')\n",
    "\n",
    "\n",
    "# setup optimiser and loss fn\n",
    "\n",
    "criterion = nn.CrossEntropyLoss()\n",
    "optimizer = optim.Adam(model.parameters(), lr=0.001)\n",
    "\n",
    "# train for n epochs\n",
    "\n",
    "num_epochs = 10\n",
    "\n",
    "for epoch in range(num_epochs):\n",
    "    for i, (waveforms, labels) in enumerate(train_loader):\n",
    "        waveforms = waveforms.squeeze(1).to(device) \n",
    "        labels = labels.to(device)\n",
    "\n",
    "        optimizer.zero_grad()\n",
    "        \n",
    "        outputs = model(waveforms)\n",
    "        loss = criterion(outputs, labels)\n",
    "        \n",
    "        loss.backward()\n",
    "        optimizer.step()\n",
    "\n",
    "        if (i + 1) % 10 == 0:\n",
    "            print(f'Epoch [{epoch + 1}/{num_epochs}], Step [{i + 1}/{len(train_loader)}], Loss: {loss.item():.4f}')\n",
    "        \n",
    "    correct = 0\n",
    "    total = 0\n",
    "\n",
    "    with torch.no_grad():\n",
    "        for waveforms, labels in val_loader:\n",
    "            waveforms = waveforms.to(device)\n",
    "            labels = labels.to(device)\n",
    "            \n",
    "            outputs = model(waveforms)\n",
    "            _, predicted = torch.max(outputs.data, 1)\n",
    "            total += labels.size(0)\n",
    "            correct += (predicted == labels).sum().item()\n",
    "    \n",
    "    print(f\"Val Accuracy: {100 * correct / total:.2f}%\")\n",
    "\n"
   ]
  },
  {
   "cell_type": "code",
   "execution_count": 46,
   "metadata": {
    "id": "L0Gmnq_ltZ9r"
   },
   "outputs": [
    {
     "name": "stdout",
     "output_type": "stream",
     "text": [
      "Accuracy of the model on the test dataset: 11.00%\n"
     ]
    }
   ],
   "source": [
    "# Test with testing dataset\n",
    "\n",
    "correct = 0\n",
    "total = 0\n",
    "\n",
    "with torch.no_grad():\n",
    "    for waveforms, labels in test_loader:\n",
    "        waveforms = waveforms.to(device)\n",
    "        labels = labels.to(device)\n",
    "\n",
    "        outputs = model(waveforms)\n",
    "        _, predicted = torch.max(outputs.data, 1)\n",
    "        total += labels.size(0)\n",
    "        correct += (predicted == labels).sum().item()\n",
    "\n",
    "print(f'Accuracy of the model on the test dataset: {100 * correct / total:.2f}%')\n",
    "\n"
   ]
  },
  {
   "cell_type": "markdown",
   "metadata": {
    "id": "2Sb27PlhtfPh"
   },
   "source": [
    "# Speech Emotion Recogntion with LSTM"
   ]
  },
  {
   "cell_type": "code",
   "execution_count": null,
   "metadata": {
    "id": "PaurcBYjteZW"
   },
   "outputs": [],
   "source": [
    "!mkdir iemocap\n",
    "!cp \"/content/drive/MyDrive/CSC6203/Data/Iemocap_lite/testing.zip\" \"/content/iemocap/testing.zip\"\n",
    "!unzip \"/content/iemocap/testing.zip\" -d \"/content/iemocap/testing\"\n",
    "!rm -rf \"/content/iemocap/testing/__MACOSX\"\n",
    "!mv \"/content/iemocap/testing\" \"/content/iemocap/testing_\"\n",
    "!mv \"/content/iemocap/testing_/testing\" \"/content/iemocap/testing\"\n",
    "!rm -rf \"/content/iemocap/testing_\"\n",
    "\n",
    "!cp \"/content/drive/MyDrive/CSC6203/Data/Iemocap_lite/training.zip\" \"/content/iemocap/training.zip\"\n",
    "!unzip \"/content/iemocap/training.zip\" -d \"/content/iemocap/training\"\n",
    "!rm -rf \"/content/iemocap/training/__MACOSX\"\n",
    "!mv \"/content/iemocap/training\" \"/content/iemocap/training_\"\n",
    "!mv \"/content/iemocap/training_/training\" \"/content/iemocap/training\"\n",
    "!rm -rf \"/content/iemocap/training_\""
   ]
  },
  {
   "cell_type": "code",
   "execution_count": 48,
   "metadata": {
    "id": "bJa2K_sat5dN"
   },
   "outputs": [],
   "source": [
    "import torch\n",
    "import torch.nn as nn\n",
    "import numpy as np\n",
    "from torch.utils.data import DataLoader, random_split, Subset\n",
    "from torchvision.datasets import DatasetFolder"
   ]
  },
  {
   "cell_type": "code",
   "execution_count": 51,
   "metadata": {
    "id": "IWDOgV6Ot7TR"
   },
   "outputs": [],
   "source": [
    "def load_npy(path):\n",
    "    return np.load(path).astype(np.float32)\n",
    "\n",
    "# Load the Dataset\n",
    "batch_size = 32\n",
    "\n",
    "training_dataset = DatasetFolder(root=\"./iemocap/training\",\n",
    "                                     loader=load_npy,\n",
    "                                     extensions=\".mfcc.npy\")\n",
    "classes, class_to_idx = training_dataset.find_classes(directory=\"./iemocap/training\")\n",
    "\n",
    "testing_dataset = DatasetFolder(root=\"./iemocap/testing\",\n",
    "                                     loader=load_npy,\n",
    "                                     extensions=\".mfcc.npy\")\n",
    "\n",
    "\n",
    "\n",
    "# Split in to 2 sub sets\n",
    "\n",
    "train_size = int(0.8 * len(training_dataset))\n",
    "val_size = len(training_dataset) - train_size\n",
    "\n",
    "train_dataset, val_dataset = random_split(training_dataset, [train_size, val_size])\n",
    "\n",
    "train_loader = DataLoader(dataset=train_dataset, batch_size=batch_size, shuffle=True, num_workers=1)\n",
    "val_loader = DataLoader(dataset=val_dataset, batch_size=batch_size, shuffle=False, num_workers=1)\n",
    "test_loader = DataLoader(dataset=testing_dataset, batch_size=batch_size, shuffle=False, num_workers=1)\n"
   ]
  },
  {
   "cell_type": "code",
   "execution_count": 52,
   "metadata": {
    "id": "XcmJYaZduAec"
   },
   "outputs": [
    {
     "data": {
      "text/plain": [
       "torch.Size([32, 128, 130])"
      ]
     },
     "execution_count": 52,
     "metadata": {},
     "output_type": "execute_result"
    }
   ],
   "source": [
    "# explore the dataset\n",
    "class_to_idx\n",
    "m,l = next(iter(train_loader))\n",
    "m.shape"
   ]
  },
  {
   "cell_type": "code",
   "execution_count": 54,
   "metadata": {
    "id": "iZY5ZGOAuB5h"
   },
   "outputs": [],
   "source": [
    "# Create LSTM model\n",
    "class LSTMModel(nn.Module):\n",
    "    def __init__(self, input_size, hidden_size, num_layers, num_classes):\n",
    "        super(LSTMModel, self).__init__()\n",
    "        self.hidden_size = hidden_size\n",
    "        self.num_layers = num_layers\n",
    "        self.lstm = nn.LSTM(input_size, hidden_size, num_layers, batch_first=True)\n",
    "        self.fc = nn.Linear(hidden_size, num_classes)\n",
    "\n",
    "    def forward(self, x):\n",
    "        h0 = torch.zeros(self.num_layers, x.size(0), self.hidden_size).to(x.device)\n",
    "        c0 = torch.zeros(self.num_layers, x.size(0), self.hidden_size).to(x.device)\n",
    "\n",
    "        out, _ = self.lstm(x, (h0, c0))\n",
    "        out = self.fc(out[:, -1, :])  # Use only the last output of the sequence\n",
    "        return out\n",
    "\n"
   ]
  },
  {
   "cell_type": "code",
   "execution_count": 61,
   "metadata": {
    "id": "Riqvc2Vku8xf"
   },
   "outputs": [],
   "source": [
    "device = torch.device('cuda' if torch.cuda.is_available() else 'cpu')\n",
    "\n",
    "# Initialize model, criterion, optimizer\n",
    "input_size = m.shape[2]\n",
    "hidden_size = 128\n",
    "num_layers = 2\n",
    "num_classes = 4\n",
    "\n",
    "model = LSTMModel(input_size, hidden_size, num_layers, num_classes)\n",
    "model.to(device)\n",
    "criterion = nn.CrossEntropyLoss()\n",
    "optimizer = optim.Adam(model.parameters(), lr=0.001)"
   ]
  },
  {
   "cell_type": "code",
   "execution_count": 58,
   "metadata": {},
   "outputs": [
    {
     "data": {
      "text/plain": [
       "LSTMModel(\n",
       "  (lstm): LSTM(130, 128, num_layers=2, batch_first=True)\n",
       "  (fc): Linear(in_features=128, out_features=4, bias=True)\n",
       ")"
      ]
     },
     "execution_count": 58,
     "metadata": {},
     "output_type": "execute_result"
    }
   ],
   "source": [
    "model"
   ]
  },
  {
   "cell_type": "code",
   "execution_count": 63,
   "metadata": {
    "id": "VwFQSvC0u_R-"
   },
   "outputs": [
    {
     "name": "stdout",
     "output_type": "stream",
     "text": [
      "Epoch [1/10], Loss: 23.934743225574493, Validation Accuracy: 0.39285714285714285\n",
      "Epoch [2/10], Loss: 19.648780643939972, Validation Accuracy: 0.44642857142857145\n",
      "Epoch [3/10], Loss: 14.17989844083786, Validation Accuracy: 0.44047619047619047\n",
      "Epoch [4/10], Loss: 7.667842343449593, Validation Accuracy: 0.4166666666666667\n",
      "Epoch [5/10], Loss: 3.1537523940205574, Validation Accuracy: 0.4226190476190476\n",
      "Epoch [6/10], Loss: 1.1986036524176598, Validation Accuracy: 0.42857142857142855\n",
      "Epoch [7/10], Loss: 0.5445179892703891, Validation Accuracy: 0.43452380952380953\n",
      "Epoch [8/10], Loss: 0.17496572597883642, Validation Accuracy: 0.4226190476190476\n",
      "Epoch [9/10], Loss: 0.07846994185820222, Validation Accuracy: 0.4107142857142857\n",
      "Epoch [10/10], Loss: 0.05318922898732126, Validation Accuracy: 0.4166666666666667\n"
     ]
    }
   ],
   "source": [
    "# Train for n epochs\n",
    "num_epochs = 10\n",
    "for epoch in range(num_epochs):\n",
    "    model.train()\n",
    "    running_loss = 0.0\n",
    "    for inputs, targets in train_loader:\n",
    "        inputs, targets = inputs.to(device), targets.to(device)\n",
    "        inputs = inputs.float()  # Ensure inputs are of type float\n",
    "\n",
    "        optimizer.zero_grad()\n",
    "        \n",
    "        outputs = model(inputs)\n",
    "        loss = criterion(outputs, targets)\n",
    "\n",
    "        \n",
    "        loss.backward()\n",
    "        optimizer.step()\n",
    "\n",
    "        running_loss += loss.item()\n",
    "\n",
    "    # Validate after each epoch\n",
    "    model.eval()\n",
    "    correct = 0\n",
    "    total = 0\n",
    "    with torch.no_grad():\n",
    "        for inputs, targets in val_loader:\n",
    "            inputs, targets = inputs.to(device), targets.to(device)\n",
    "            inputs = inputs.float()  # Ensure inputs are of type float\n",
    "            outputs = model(inputs)\n",
    "            _, predicted = torch.max(outputs.data, 1)\n",
    "            total += targets.size(0)\n",
    "            correct += (predicted == targets).sum().item()\n",
    "\n",
    "    val_accuracy = correct / total\n",
    "    print(f'Epoch [{epoch+1}/{num_epochs}], Loss: {running_loss}, Validation Accuracy: {val_accuracy}')\n"
   ]
  },
  {
   "cell_type": "markdown",
   "metadata": {
    "id": "46QhAr86vGOl"
   },
   "source": [
    "# Feature Extraction with Wav2vec2.0"
   ]
  },
  {
   "cell_type": "code",
   "execution_count": null,
   "metadata": {
    "id": "HtmwZDf8vJ5N"
   },
   "outputs": [],
   "source": [
    "!chmod +x download_speech_commands.sh\n",
    "!./download_speech_commands.sh"
   ]
  },
  {
   "cell_type": "code",
   "execution_count": 64,
   "metadata": {
    "id": "gW9xlRlyvMFz"
   },
   "outputs": [],
   "source": [
    "import torch\n",
    "import librosa\n",
    "import numpy as np\n",
    "import torchaudio\n",
    "import torch.nn as nn\n",
    "import torch.optim as optim\n",
    "from torch.utils.data import DataLoader, random_split, Subset\n",
    "from torchvision.datasets import DatasetFolder\n",
    "import matplotlib.pyplot as plt\n",
    "from sklearn.metrics import confusion_matrix, ConfusionMatrixDisplay"
   ]
  },
  {
   "cell_type": "code",
   "execution_count": 68,
   "metadata": {},
   "outputs": [],
   "source": [
    "bundle = torchaudio.pipelines.WAV2VEC2_LARGE"
   ]
  },
  {
   "cell_type": "code",
   "execution_count": 74,
   "metadata": {
    "id": "kIcitSi_vNqj"
   },
   "outputs": [],
   "source": [
    "# Load the Audio Dataset\n",
    "\n",
    "class AudioDataset(DatasetFolder):\n",
    "    def __init__(self, root, transform=None):\n",
    "        super().__init__(root, loader=self.load_audio, extensions='.wav')\n",
    "        self.transform = transform\n",
    "\n",
    "    def load_audio(self, path):\n",
    "        waveform, sample_rate = librosa.load(path)\n",
    "        waveform = librosa.util.fix_length(waveform, size=1 * sample_rate)\n",
    "        waveform = librosa.resample(waveform, orig_sr=sample_rate, target_sr=bundle.sample_rate)\n",
    "        waveform = torch.from_numpy(waveform)\n",
    "        return waveform\n",
    "\n",
    "    def __getitem__(self, index):\n",
    "        path, target = self.samples[index]\n",
    "        sample = self.loader(path)\n",
    "        if self.transform is not None:\n",
    "            sample = self.transform(sample)\n",
    "        return sample, target\n",
    "\n",
    "# Split in to 3 subsets\n",
    "dataset = AudioDataset(root='./speech_commands')\n",
    "\n",
    "train_len = int(0.7 * len(dataset))\n",
    "val_len = int(0.2 * len(dataset))\n",
    "test_len = len(dataset) - train_len - val_len\n",
    "\n",
    "train_dataset, val_dataset, test_dataset = random_split(dataset, [train_len, val_len, test_len])\n",
    "\n",
    "\n",
    "# Initialise the Loaders\n",
    "train_loader = DataLoader(train_dataset, batch_size=64, shuffle=True)\n",
    "val_loader = DataLoader(val_dataset, batch_size=64, shuffle=False)\n",
    "test_loader = DataLoader(test_dataset, batch_size=64, shuffle=False)\n"
   ]
  },
  {
   "cell_type": "code",
   "execution_count": 75,
   "metadata": {},
   "outputs": [
    {
     "data": {
      "text/plain": [
       "torch.Size([64, 16000])"
      ]
     },
     "execution_count": 75,
     "metadata": {},
     "output_type": "execute_result"
    }
   ],
   "source": [
    "w,l = next(iter(train_loader))\n",
    "w.shape"
   ]
  },
  {
   "cell_type": "code",
   "execution_count": 71,
   "metadata": {
    "id": "otpAEhEVvYt4"
   },
   "outputs": [],
   "source": [
    "# Load the Wav2Vec2.0 model\n",
    "wav2vec_model = bundle.get_model()\n"
   ]
  },
  {
   "cell_type": "code",
   "execution_count": 82,
   "metadata": {
    "id": "Rr5uGYPdvcF6"
   },
   "outputs": [
    {
     "data": {
      "text/plain": [
       "torch.Size([64, 49, 1024])"
      ]
     },
     "execution_count": 82,
     "metadata": {},
     "output_type": "execute_result"
    }
   ],
   "source": [
    "# Explore the features\n",
    "output = wav2vec_model(w)\n",
    "output[0].shape"
   ]
  },
  {
   "cell_type": "code",
   "execution_count": 83,
   "metadata": {
    "id": "BmttVPi-vfxr"
   },
   "outputs": [],
   "source": [
    "# Create a Model wrapping Wav2vec model\n",
    "class ASRWav2VecCNN(nn.Module):\n",
    "    def __init__(self):\n",
    "        super(ASRWav2VecCNN, self).__init__()\n",
    "        self.wav2vec2 = bundle.get_model()\n",
    "        self.conv1 = nn.Conv2d(1, 32, kernel_size=3, stride=1, padding=1)\n",
    "        self.conv2 = nn.Conv2d(32, 64, kernel_size=3, stride=1, padding=1)\n",
    "        self.pool = nn.MaxPool2d(2, 2)\n",
    "        self.fc1 = nn.Linear(64 * 12 * 256, 256)  # Adjust based on the input size\n",
    "        self.fc2 = nn.Linear(256, 10)  # Adjust based on the number of classes\n",
    "\n",
    "    def forward(self, x):\n",
    "        with torch.no_grad():\n",
    "            self.wav2vec2.eval()\n",
    "            x = self.wav2vec2(x)[0]\n",
    "            x = x.unsqueeze(1)\n",
    "        x = self.pool(torch.relu(self.conv1(x)))\n",
    "        x = self.pool(torch.relu(self.conv2(x)))\n",
    "        x = x.view(-1, 64 * 12 * 256)  # Adjust based on the input size\n",
    "        x = torch.relu(self.fc1(x))\n",
    "        x = self.fc2(x)\n",
    "        return x\n",
    "\n",
    "model = ASRWav2VecCNN()"
   ]
  },
  {
   "cell_type": "code",
   "execution_count": 84,
   "metadata": {
    "id": "4i1N4Nfevm1O"
   },
   "outputs": [],
   "source": [
    "# Create training function\n",
    "def train(model, device, train_loader, optimizer, criterion, epoch, train_history, val_history):\n",
    "    model.train()\n",
    "    train_loss = 0\n",
    "    correct = 0\n",
    "    for batch_idx, (data, target) in enumerate(train_loader):\n",
    "        data, target = data.to(device), target.to(device)\n",
    "        optimizer.zero_grad()\n",
    "        output = model(data)\n",
    "        loss = criterion(output, target)\n",
    "        loss.backward()\n",
    "        optimizer.step()\n",
    "\n",
    "        train_loss += loss.item()\n",
    "        pred = output.argmax(dim=1, keepdim=True)\n",
    "        correct += pred.eq(target.view_as(pred)).sum().item()\n",
    "\n",
    "    train_loss /= len(train_loader.dataset)\n",
    "    accuracy = 100. * correct / len(train_loader.dataset)\n",
    "    train_history.append((train_loss, accuracy))\n",
    "    print(f'Train Epoch: {epoch} Average loss: {train_loss:.4f}, Accuracy: {correct}/{len(train_loader.dataset)} ({accuracy:.0f}%)')\n"
   ]
  },
  {
   "cell_type": "code",
   "execution_count": 85,
   "metadata": {
    "id": "ncNc9guzvqa_"
   },
   "outputs": [],
   "source": [
    "# Create eval funcion\n",
    "\n",
    "def evaluate(model, device, val_loader, criterion, val_history):\n",
    "    model.eval()\n",
    "    val_loss = 0\n",
    "    correct = 0\n",
    "    with torch.no_grad():\n",
    "        for data, target in val_loader:\n",
    "            data, target = data.to(device), target.to(device)\n",
    "            output = model(data)\n",
    "            val_loss += criterion(output, target).item()\n",
    "            pred = output.argmax(dim=1, keepdim=True)\n",
    "            correct += pred.eq(target.view_as(pred)).sum().item()\n",
    "\n",
    "    val_loss /= len(val_loader.dataset)\n",
    "    accuracy = 100. * correct / len(val_loader.dataset)\n",
    "    val_history.append((val_loss, accuracy))\n",
    "    print(f'Validation set: Average loss: {val_loss:.4f}, Accuracy: {correct}/{len(val_loader.dataset)} ({accuracy:.0f}%)')\n"
   ]
  },
  {
   "cell_type": "code",
   "execution_count": 86,
   "metadata": {
    "id": "wYtQbBFWvsv5"
   },
   "outputs": [],
   "source": [
    "# Create testing function\n",
    "\n",
    "def test(model, device, test_loader, criterion):\n",
    "    model.eval()\n",
    "    test_loss = 0\n",
    "    correct = 0\n",
    "    all_preds = []\n",
    "    all_targets = []\n",
    "    with torch.no_grad():\n",
    "        for data, target in test_loader:\n",
    "            data, target = data.to(device), target.to(device)\n",
    "            output = model(data)\n",
    "            test_loss += criterion(output, target).item()\n",
    "            pred = output.argmax(dim=1, keepdim=True)\n",
    "            correct += pred.eq(target.view_as(pred)).sum().item()\n",
    "            all_preds.extend(pred.cpu().numpy())\n",
    "            all_targets.extend(target.cpu().numpy())\n",
    "\n",
    "    test_loss /= len(test_loader.dataset)\n",
    "    accuracy = 100. * correct / len(test_loader.dataset)\n",
    "    print(f'Test set: Average loss: {test_loss:.4f}, Accuracy: {correct}/{len(test_loader.dataset)} ({accuracy:.0f}%)\\n')\n",
    "    return all_preds, all_targets, test_loss, accuracy\n"
   ]
  },
  {
   "cell_type": "code",
   "execution_count": 88,
   "metadata": {
    "id": "QyqFGK89vu8p"
   },
   "outputs": [
    {
     "name": "stdout",
     "output_type": "stream",
     "text": [
      "Train Epoch: 1 Average loss: 0.0667, Accuracy: 158/1400 (11%)\n",
      "Validation set: Average loss: 0.0403, Accuracy: 33/400 (8%)\n",
      "Train Epoch: 2 Average loss: 0.0362, Accuracy: 145/1400 (10%)\n",
      "Validation set: Average loss: 0.0403, Accuracy: 33/400 (8%)\n",
      "Train Epoch: 3 Average loss: 0.0362, Accuracy: 145/1400 (10%)\n",
      "Validation set: Average loss: 0.0403, Accuracy: 33/400 (8%)\n",
      "Train Epoch: 4 Average loss: 0.0362, Accuracy: 145/1400 (10%)\n",
      "Validation set: Average loss: 0.0403, Accuracy: 33/400 (8%)\n",
      "Train Epoch: 5 Average loss: 0.0362, Accuracy: 145/1400 (10%)\n",
      "Validation set: Average loss: 0.0403, Accuracy: 33/400 (8%)\n"
     ]
    }
   ],
   "source": [
    "# get the device\n",
    "device = torch.device(\"cuda\" if torch.cuda.is_available() else \"cpu\")\n",
    "\n",
    "# transfer model to device\n",
    "model.to(device)\n",
    "\n",
    "#initialise optimiser and loss fn\n",
    "\n",
    "optimizer = optim.Adam(model.parameters(), lr=0.001)\n",
    "criterion = nn.CrossEntropyLoss()\n",
    "\n",
    "# Train for n epochs\n",
    "for epoch in range(1, 6):\n",
    "    train(model, device, train_loader, optimizer, criterion, epoch, train_history, val_history)\n",
    "    evaluate(model, device, val_loader, criterion, val_history)\n"
   ]
  },
  {
   "cell_type": "code",
   "execution_count": 89,
   "metadata": {
    "id": "x2Qql1ehv4AD"
   },
   "outputs": [
    {
     "name": "stdout",
     "output_type": "stream",
     "text": [
      "Test set: Average loss: 0.0461, Accuracy: 22/200 (11%)\n",
      "\n"
     ]
    }
   ],
   "source": [
    "# Test and visualise the confusion matrix\n",
    "all_preds, all_targets, test_loss, accuracy = test(model, device, test_loader, criterion)"
   ]
  },
  {
   "cell_type": "code",
   "execution_count": 90,
   "metadata": {},
   "outputs": [
    {
     "data": {
      "image/png": "[encoded data removed]",
      "text/plain": [
       "<Figure size 640x480 with 2 Axes>"
      ]
     },
     "metadata": {},
     "output_type": "display_data"
    }
   ],
   "source": [
    "# visualise confusion matrix\n",
    "cm = confusion_matrix(all_targets, all_preds)\n",
    "cmd = ConfusionMatrixDisplay(cm)\n",
    "cmd.plot()\n",
    "plt.show()\n"
   ]
  }
 ],
 "metadata": {
  "accelerator": "GPU",
  "colab": {
   "collapsed_sections": [
    "LBD_FjaOo79t",
    "Z8yTfigMsPxh",
    "2Sb27PlhtfPh"
   ],
   "gpuType": "T4",
   "provenance": []
  },
  "kernelspec": {
   "display_name": "Python 3 (ipykernel)",
   "language": "python",
   "name": "python3"
  },
  "language_info": {
   "codemirror_mode": {
    "name": "ipython",
    "version": 3
   },
   "file_extension": ".py",
   "mimetype": "text/x-python",
   "name": "python",
   "nbconvert_exporter": "python",
   "pygments_lexer": "ipython3",
   "version": "3.11.9"
  }
 },
 "nbformat": 4,
 "nbformat_minor": 4
}
