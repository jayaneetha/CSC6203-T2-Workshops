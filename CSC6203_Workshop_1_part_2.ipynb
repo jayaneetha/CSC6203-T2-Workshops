{
  "nbformat": 4,
  "nbformat_minor": 0,
  "metadata": {
    "colab": {
      "provenance": [],
      "gpuType": "T4"
    },
    "kernelspec": {
      "name": "python3",
      "display_name": "Python 3"
    },
    "language_info": {
      "name": "python"
    },
    "accelerator": "GPU"
  },
  "cells": [
    {
      "cell_type": "code",
      "execution_count": null,
      "metadata": {
        "id": "1MaDk4TcVjKA"
      },
      "outputs": [],
      "source": [
        "import numpy as np\n",
        "import tensorflow as tf\n",
        "from tensorflow.keras.layers import Conv2D, Input, Dense, MaxPool2D, BatchNormalization, GlobalAvgPool2D\n",
        "import matplotlib.pyplot as plt"
      ]
    },
    {
      "cell_type": "code",
      "source": [
        "(x_train, y_train), (x_test, y_test) = tf.keras.datasets.mnist.load_data()"
      ],
      "metadata": {
        "id": "4YwsI6EAVz8u"
      },
      "execution_count": null,
      "outputs": []
    },
    {
      "cell_type": "code",
      "source": [
        "def display_some_examples(examples, labels):\n",
        "\n",
        "    plt.figure(figsize=(10,10))\n",
        "\n",
        "    for i in range(25):\n",
        "\n",
        "        idx = np.random.randint(0, examples.shape[0]-1)\n",
        "        img = examples[idx]\n",
        "        label = labels[idx]\n",
        "\n",
        "        plt.subplot(5,5,i+1)\n",
        "        plt.title(str(label))\n",
        "        plt.tight_layout()\n",
        "        plt.imshow(img, cmap='gray')\n",
        "\n",
        "    plt.show()"
      ],
      "metadata": {
        "id": "DpoYw6zYV-Lp"
      },
      "execution_count": null,
      "outputs": []
    },
    {
      "cell_type": "code",
      "source": [
        "print(\"x_train.shape = \", x_train.shape)\n",
        "print(\"y_train.shape = \", y_train.shape)\n",
        "print(\"x_test.shape = \", x_test.shape)\n",
        "print(\"y_test.shape = \", y_test.shape)"
      ],
      "metadata": {
        "id": "7jYnPZqRWEny"
      },
      "execution_count": null,
      "outputs": []
    },
    {
      "cell_type": "code",
      "source": [
        "display_some_examples(x_train, y_train)"
      ],
      "metadata": {
        "id": "ISbssmTTWIbG"
      },
      "execution_count": null,
      "outputs": []
    },
    {
      "cell_type": "code",
      "source": [
        "x_train = x_train.astype('float32') / 255\n",
        "x_test = x_test.astype('float32') / 255\n",
        "x_train = np.expand_dims(x_train, axis=-1)\n",
        "x_test = np.expand_dims(x_test, axis=-1)"
      ],
      "metadata": {
        "id": "jIhldvemWNq2"
      },
      "execution_count": null,
      "outputs": []
    },
    {
      "cell_type": "code",
      "source": [
        "x_train[0]"
      ],
      "metadata": {
        "id": "_SbC6PJSkC6b"
      },
      "execution_count": null,
      "outputs": []
    },
    {
      "cell_type": "code",
      "source": [
        "model = tf.keras.Sequential(\n",
        "\n",
        "    [\n",
        "        Input(shape=(28,28,1)),\n",
        "        Conv2D(32, (3,3), activation='relu'),\n",
        "        Conv2D(64, (3,3), activation='relu'),\n",
        "        MaxPool2D(),\n",
        "        BatchNormalization(),\n",
        "\n",
        "        Conv2D(128, (3,3), activation='relu'),\n",
        "        MaxPool2D(),\n",
        "        BatchNormalization(),\n",
        "\n",
        "        GlobalAvgPool2D(),\n",
        "        Dense(64, activation='relu'),\n",
        "        Dense(10, activation='softmax')\n",
        "    ]\n",
        ")"
      ],
      "metadata": {
        "id": "BUC1i6TuWOtf"
      },
      "execution_count": null,
      "outputs": []
    },
    {
      "cell_type": "code",
      "source": [
        "model.compile(optimizer='adam', loss='sparse_categorical_crossentropy', metrics='accuracy')"
      ],
      "metadata": {
        "id": "rDaHp_4tWZmr"
      },
      "execution_count": null,
      "outputs": []
    },
    {
      "cell_type": "code",
      "source": [
        "model.fit(x_train, y_train, batch_size=64, epochs=3, validation_split=0.2)"
      ],
      "metadata": {
        "id": "9Q6fb1CrWbSF"
      },
      "execution_count": null,
      "outputs": []
    },
    {
      "cell_type": "code",
      "source": [
        "model.evaluate(x_test, y_test, batch_size=64)"
      ],
      "metadata": {
        "id": "lpeDiZluWd7N"
      },
      "execution_count": null,
      "outputs": []
    },
    {
      "cell_type": "code",
      "source": [
        "plt.imshow(x_test[0])"
      ],
      "metadata": {
        "id": "_7figK__Xftf"
      },
      "execution_count": null,
      "outputs": []
    },
    {
      "cell_type": "code",
      "source": [
        "model.predict(x_test[:1])"
      ],
      "metadata": {
        "id": "NYnqBncPWqo8"
      },
      "execution_count": null,
      "outputs": []
    }
  ]
}