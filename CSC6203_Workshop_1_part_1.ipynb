{
  "nbformat": 4,
  "nbformat_minor": 0,
  "metadata": {
    "colab": {
      "provenance": []
    },
    "kernelspec": {
      "name": "python3",
      "display_name": "Python 3"
    },
    "language_info": {
      "name": "python"
    }
  },
  "cells": [
    {
      "cell_type": "markdown",
      "source": [
        "# Introduction to Google Colab\n",
        "\n",
        "Google Colab is a service offered by Google to host and compute python and R scripts.\n",
        "\n",
        "## Introduction to the interface\n",
        "*  Table of Contents\n",
        "*  Find and Replace\n",
        "*  Variables\n",
        "*  Secrets\n",
        "*  Files\n",
        "*  Cells - Code, Text\n",
        "*  Resources\n",
        "*  Menus\n",
        "*  Playground mode\n",
        "\n",
        "## Getting Started with Colab\n",
        "* Create a new Notebook\n",
        "* Open a Notebook\n",
        "* Download a Notebook\n",
        "* Upload a Notebook\n",
        "\n",
        "## Colab Runtimes\n",
        "* Python vs R\n",
        "* Hardware Accelarator\n",
        "\n"
      ],
      "metadata": {
        "id": "rBVb4KLCGQ30"
      }
    },
    {
      "cell_type": "markdown",
      "source": [
        "# Running Python Scripts"
      ],
      "metadata": {
        "id": "0QJcverXK9f5"
      }
    },
    {
      "cell_type": "markdown",
      "source": [
        "## Hello World"
      ],
      "metadata": {
        "id": "zmC4mUOmLn0P"
      }
    },
    {
      "cell_type": "code",
      "source": [
        "print(\"Hello World\")"
      ],
      "metadata": {
        "id": "Pj_5x4SrLDTt"
      },
      "execution_count": null,
      "outputs": []
    },
    {
      "cell_type": "markdown",
      "source": [
        "## Defining functions"
      ],
      "metadata": {
        "id": "4uKEjaRYLp-w"
      }
    },
    {
      "cell_type": "code",
      "source": [
        "def add(x, y):\n",
        "    return x + y"
      ],
      "metadata": {
        "id": "rny7KeXiLJxs"
      },
      "execution_count": null,
      "outputs": []
    },
    {
      "cell_type": "code",
      "source": [
        "def subtract(x, y):\n",
        "    return x - y\n",
        "\n",
        "def multiply(x, y):\n",
        "    return x * y\n",
        "\n",
        "def divide(x, y):\n",
        "    if y == 0:\n",
        "        return \"Error: Division by zero\"\n",
        "    return x / y"
      ],
      "metadata": {
        "id": "BQXDPVK7Lzt0"
      },
      "execution_count": null,
      "outputs": []
    },
    {
      "cell_type": "code",
      "source": [
        "num1 = 10\n",
        "num2 = 45\n",
        "\n",
        "add(num1,num2)"
      ],
      "metadata": {
        "id": "KfEDVPf3L0bU"
      },
      "execution_count": null,
      "outputs": []
    },
    {
      "cell_type": "markdown",
      "source": [
        "## Write to file"
      ],
      "metadata": {
        "id": "APBk9hZ0MSYs"
      }
    },
    {
      "cell_type": "code",
      "source": [
        "with open('test.txt', 'w') as f:\n",
        "  f.write(\"Hello File\")"
      ],
      "metadata": {
        "id": "kLEeqKjSMWAX"
      },
      "execution_count": null,
      "outputs": []
    },
    {
      "cell_type": "markdown",
      "source": [
        "## Read from file"
      ],
      "metadata": {
        "id": "kSvHzaO1Ml3N"
      }
    },
    {
      "cell_type": "code",
      "source": [
        "with open('test.txt', 'r') as f:\n",
        "  content = f.read()\n",
        "  print(content)"
      ],
      "metadata": {
        "id": "PRQybHujMk_f"
      },
      "execution_count": null,
      "outputs": []
    },
    {
      "cell_type": "markdown",
      "source": [
        "## Try-catch"
      ],
      "metadata": {
        "id": "P54VBwarMyDL"
      }
    },
    {
      "cell_type": "code",
      "source": [
        "try:\n",
        "  with open('test.txt', 'r') as f:\n",
        "    content = f.read()\n",
        "    print(content)\n",
        "except FileNotFoundError:\n",
        "  print(\"File Not Found\")\n",
        "except Exception as e:\n",
        "  print(\"Error Occured : \" + e)"
      ],
      "metadata": {
        "id": "jtRjRIWOMeSy"
      },
      "execution_count": null,
      "outputs": []
    },
    {
      "cell_type": "markdown",
      "source": [
        "# Python Packages\n",
        "We do not want to write code for every functionality. There are pre-written code libraries that are available to be used. They are called Python Packages.\n",
        "Pandas, Numpy, Scikit Learn, Matplotlib, Tensorflow, Pytorch are some of the useful packages in the field of data science."
      ],
      "metadata": {
        "id": "iF0pSgPqNPzT"
      }
    },
    {
      "cell_type": "code",
      "source": [
        "# Import a package\n",
        "import librosa\n",
        "import pandas as pd"
      ],
      "metadata": {
        "id": "q_N6GCoyOesD"
      },
      "execution_count": null,
      "outputs": []
    },
    {
      "cell_type": "markdown",
      "source": [
        "## Install a python package"
      ],
      "metadata": {
        "id": "YTMw_xM8N15V"
      }
    },
    {
      "cell_type": "code",
      "source": [
        "!pip install librosa # Magic command"
      ],
      "metadata": {
        "id": "MIsKSrNjN0gj"
      },
      "execution_count": null,
      "outputs": []
    },
    {
      "cell_type": "markdown",
      "source": [
        "# Mount a Google Drive Folder"
      ],
      "metadata": {
        "id": "PTYtSwc-Ov-h"
      }
    },
    {
      "cell_type": "code",
      "source": [
        "with open(\"/content/drive/MyDrive/CSC6203/Data/test.txt\", 'w') as f:\n",
        "  f.write(\"Hello File in Google Drive!\")"
      ],
      "metadata": {
        "id": "hHD62FYzOvf1"
      },
      "execution_count": null,
      "outputs": []
    },
    {
      "cell_type": "markdown",
      "source": [
        "# Simple Linux Commands\n",
        "\n",
        "* `ls` - list directory\n",
        "* `pwd` - print working directory\n",
        "* `cp` - copy a file\n",
        "* `mv` - move a file\n",
        "* `rm` - remove a file\n",
        "* `mkdir` - create a directory\n",
        "* `df` - get file system information\n",
        "\n"
      ],
      "metadata": {
        "id": "RuR69islQDtB"
      }
    },
    {
      "cell_type": "markdown",
      "source": [
        "# Download a dataset"
      ],
      "metadata": {
        "id": "CVVfdt_TRG_R"
      }
    },
    {
      "cell_type": "code",
      "source": [
        "!wget \"https://download.microsoft.com/download/3/E/1/3E1C3F21-ECDB-4869-8368-6DEBA77B919F/kagglecatsanddogs_5340.zip\" -O \"/content/drive/MyDrive/CSC6203/Data/kagglecatsanddogs_5340.zip\""
      ],
      "metadata": {
        "id": "fDVyhi9WPkvQ"
      },
      "execution_count": null,
      "outputs": []
    },
    {
      "cell_type": "code",
      "source": [
        "!ls -lh \"/content/drive/MyDrive/CSC6203/Data/\""
      ],
      "metadata": {
        "id": "bTDut__sPn2L"
      },
      "execution_count": null,
      "outputs": []
    },
    {
      "cell_type": "code",
      "source": [
        "!unzip \"/content/drive/MyDrive/CSC6203/Data/kagglecatsanddogs_5340.zip\" -d \"/content/drive/MyDrive/CSC6203/Data/catsanddogs/\""
      ],
      "metadata": {
        "id": "bdNiz-V0TZEC"
      },
      "execution_count": null,
      "outputs": []
    },
    {
      "cell_type": "markdown",
      "source": [
        "# Check GPU Availability"
      ],
      "metadata": {
        "id": "hjYQP7oPUB66"
      }
    },
    {
      "cell_type": "code",
      "source": [
        "import tensorflow as tf\n",
        "print(tf.config.list_physical_devices('GPU'))"
      ],
      "metadata": {
        "id": "sq5MdDnwT1Mj"
      },
      "execution_count": null,
      "outputs": []
    }
  ]
}